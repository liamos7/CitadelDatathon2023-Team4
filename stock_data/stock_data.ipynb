{
 "cells": [
  {
   "cell_type": "code",
   "execution_count": null,
   "metadata": {},
   "outputs": [],
   "source": [
    "import pandas as pd\n",
    "import numpy as np\n",
    "\n",
    "stock_prices = pd.read_csv('data/stock_prices.csv')\n",
    "stock_prices['timestamp'] = pd.to_datetime(stock_prices['timestamp'])\n",
    "stock_prices = stock_prices.set_index('timestamp').sort_index(ascending=True)\n",
    "shifted_stock_prices = stock_prices.shift(1).add_suffix('_last_close')\n",
    "\n",
    "column_mapping = {\n",
    "    'AA': 'AAL',\n",
    "    'UA': 'UAL',\n",
    "    'B6': 'JBLU',\n",
    "    'AS': 'ALK',\n",
    "    'NK': 'SAVE',\n",
    "    'WN': 'LUV',\n",
    "    'DL': 'DAL',\n",
    "    'HA': 'HA'\n",
    "}\n",
    "tickers = ['AAL', 'UAL', 'JBLU', 'ALK', 'SAVE', 'LUV', 'DAL', 'HA']\n",
    "\n",
    "stock_prices.rename(columns=column_mapping, inplace=True)\n",
    "\n",
    "# Calculate log prices and add suffix '_log_price'\n",
    "stock_price_log = stock_prices.apply(np.log).add_suffix('_log_price')\n",
    "\n",
    "# Define the rolling windows\n",
    "windows = [7, 14, 30, 90]\n",
    "for window in windows:\n",
    "    shifted_prices_window = stock_prices.shift(window, freq='D').add_suffix(f'_{window}_days_ago')\n",
    "    shifted_stock_prices = pd.merge(shifted_stock_prices, shifted_prices_window, how='left', left_index=True, right_index=True)\n",
    "    \n",
    "# Calculate rolling averages for each column and window size\n",
    "for col in tickers:\n",
    "    for window in windows:\n",
    "        new_col_name = f'{col}_rolling_{window}_day_avg'\n",
    "        stock_prices[new_col_name] = stock_prices[col].rolling(window).mean()\n",
    "\n",
    "\n",
    "\n",
    "\n",
    "# Combine the original DataFrame, shifted DataFrame, and log prices DataFrame\n",
    "main_stock_price_df = pd.concat([stock_prices, shifted_stock_prices, stock_price_log], axis=1)\n",
    "\n",
    "for col in tickers:\n",
    "    for window in [7, 14, 30, 90]:\n",
    "        shifted_col = f'{col}_{window}_days_ago'\n",
    "        new_col_name = f'{col}_pct_change_{window}_days'\n",
    "        main_stock_price_df[new_col_name] = (main_stock_price_df[col] - main_stock_price_df[shifted_col]) / main_stock_price_df[shifted_col]\n",
    "\n",
    "pd.set_option('display.max_columns', 300)\n",
    "display(main_stock_price_df.head())"
   ]
  }
 ],
 "metadata": {
  "kernelspec": {
   "display_name": "Python 3.11.0 64-bit",
   "language": "python",
   "name": "python3"
  },
  "language_info": {
   "name": "python",
   "version": "3.11.0"
  },
  "orig_nbformat": 4,
  "vscode": {
   "interpreter": {
    "hash": "aee8b7b246df8f9039afb4144a1f6fd8d2ca17a180786b69acc140d282b71a49"
   }
  }
 },
 "nbformat": 4,
 "nbformat_minor": 2
}
